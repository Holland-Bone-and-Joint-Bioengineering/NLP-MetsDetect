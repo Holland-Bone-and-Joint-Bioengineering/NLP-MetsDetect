{
 "cells": [
  {
   "cell_type": "code",
   "execution_count": null,
   "metadata": {},
   "outputs": [],
   "source": [
    "import numpy as np\n",
    "from sklearn.naive_bayes import GaussianNB\n",
    "from sklearn.model_selection import train_test_split\n",
    "from sklearn.metrics import accuracy_score, f1_score\n",
    "import pandas as pd\n",
    "from sentence_transformers import SentenceTransformer"
   ]
  },
  {
   "cell_type": "code",
   "execution_count": 15,
   "metadata": {},
   "outputs": [],
   "source": [
    "import torch\n",
    "import torch.nn as nn\n",
    "import torch.optim as optim\n",
    "from torch.utils.data import DataLoader, TensorDataset"
   ]
  },
  {
   "cell_type": "code",
   "execution_count": 38,
   "metadata": {},
   "outputs": [],
   "source": [
    "from sklearn.metrics import mean_squared_error\n"
   ]
  },
  {
   "cell_type": "code",
   "execution_count": null,
   "metadata": {},
   "outputs": [],
   "source": [
    "pubmed_bert = SentenceTransformer('pritamdeka/S-PubMedBert-MS-MARCO')"
   ]
  },
  {
   "cell_type": "code",
   "execution_count": 9,
   "metadata": {},
   "outputs": [
    {
     "data": {
      "text/html": [
       "<div>\n",
       "<style scoped>\n",
       "    .dataframe tbody tr th:only-of-type {\n",
       "        vertical-align: middle;\n",
       "    }\n",
       "\n",
       "    .dataframe tbody tr th {\n",
       "        vertical-align: top;\n",
       "    }\n",
       "\n",
       "    .dataframe thead th {\n",
       "        text-align: right;\n",
       "    }\n",
       "</style>\n",
       "<table border=\"1\" class=\"dataframe\">\n",
       "  <thead>\n",
       "    <tr style=\"text-align: right;\">\n",
       "      <th></th>\n",
       "      <th>Unnamed: 0</th>\n",
       "      <th>pt_shsc_id</th>\n",
       "      <th>imaging_date</th>\n",
       "      <th>healthy</th>\n",
       "      <th>fracture_or_metastases</th>\n",
       "      <th>ServDescription</th>\n",
       "      <th>ReportDate</th>\n",
       "      <th>ReportText</th>\n",
       "    </tr>\n",
       "  </thead>\n",
       "  <tbody>\n",
       "    <tr>\n",
       "      <th>0</th>\n",
       "      <td>147</td>\n",
       "      <td>SHSC-1AR4W-5L54C-ITDX3-TF89XE1YWW-ZKFBG-9VWKC-...</td>\n",
       "      <td>2010-01-20</td>\n",
       "      <td>0.0</td>\n",
       "      <td>0.0</td>\n",
       "      <td>Bone Mass Density High Risk - Multiple Sites</td>\n",
       "      <td>2010-01-21 11:39:00.140</td>\n",
       "      <td>bone densitometry (dxa): a baseline bone densi...</td>\n",
       "    </tr>\n",
       "    <tr>\n",
       "      <th>1</th>\n",
       "      <td>260</td>\n",
       "      <td>SHSC-1AR4W-5L54C-ITDX3-TF89XE1YWW-ZKFBG-9VWKC-...</td>\n",
       "      <td>2011-02-02</td>\n",
       "      <td>1.0</td>\n",
       "      <td>0.0</td>\n",
       "      <td>Bone Scan(Whole Body)Nuc Med</td>\n",
       "      <td>2011-02-02 16:24:11.000</td>\n",
       "      <td>technetium mdp bone scan findings: there is a ...</td>\n",
       "    </tr>\n",
       "    <tr>\n",
       "      <th>2</th>\n",
       "      <td>272</td>\n",
       "      <td>SHSC-1AR4W-5L54C-ITDX3-TF89XE1YWW-ZKFBG-9VWKC-...</td>\n",
       "      <td>2011-02-02</td>\n",
       "      <td>1.0</td>\n",
       "      <td>0.0</td>\n",
       "      <td>X-Ray Chest PA+LAT Routine</td>\n",
       "      <td>2011-02-02 09:12:24.000</td>\n",
       "      <td>chest pa and lateral reference:no previous the...</td>\n",
       "    </tr>\n",
       "    <tr>\n",
       "      <th>3</th>\n",
       "      <td>311</td>\n",
       "      <td>SHSC-1AR4W-5L54C-ITDX3-TF89XE1YWW-ZKFBG-9VWKC-...</td>\n",
       "      <td>2011-04-11</td>\n",
       "      <td>0.0</td>\n",
       "      <td>1.0</td>\n",
       "      <td>Abdomen + Pelvis CT with oral C+</td>\n",
       "      <td>2011-04-12 16:27:57.000</td>\n",
       "      <td>ct abdomen pelvis (enhanced) comparison: ct da...</td>\n",
       "    </tr>\n",
       "    <tr>\n",
       "      <th>4</th>\n",
       "      <td>389</td>\n",
       "      <td>SHSC-1AR4W-5L54C-ITDX3-TF89XE1YWW-ZKFBG-9VWKC-...</td>\n",
       "      <td>2011-06-06</td>\n",
       "      <td>0.0</td>\n",
       "      <td>1.0</td>\n",
       "      <td>Abdomen + Pelvis CT with oral C+</td>\n",
       "      <td>2011-06-06 15:08:04.000</td>\n",
       "      <td>ct abdomen pelvis (enhanced) comparison: ct da...</td>\n",
       "    </tr>\n",
       "    <tr>\n",
       "      <th>...</th>\n",
       "      <td>...</td>\n",
       "      <td>...</td>\n",
       "      <td>...</td>\n",
       "      <td>...</td>\n",
       "      <td>...</td>\n",
       "      <td>...</td>\n",
       "      <td>...</td>\n",
       "      <td>...</td>\n",
       "    </tr>\n",
       "    <tr>\n",
       "      <th>1362</th>\n",
       "      <td>60124</td>\n",
       "      <td>SHSC-ZT1YP-WP8FY-45FV0-HFN9E2J3E8-50SNT-5PP8Q-...</td>\n",
       "      <td>2012-01-27</td>\n",
       "      <td>1.0</td>\n",
       "      <td>0.0</td>\n",
       "      <td>Nephrostomy or NUT change</td>\n",
       "      <td>2012-01-27 13:15:45.000</td>\n",
       "      <td>right nephrostomy catheter exchange history: u...</td>\n",
       "    </tr>\n",
       "    <tr>\n",
       "      <th>1363</th>\n",
       "      <td>60138</td>\n",
       "      <td>SHSC-ZT1YP-WP8FY-45FV0-HFN9E2J3E8-50SNT-5PP8Q-...</td>\n",
       "      <td>2012-01-27</td>\n",
       "      <td>1.0</td>\n",
       "      <td>0.0</td>\n",
       "      <td>Kidney + Bladder US</td>\n",
       "      <td>2012-01-27 18:48:44.000</td>\n",
       "      <td>findings: right nephrostomy tube in situ. mark...</td>\n",
       "    </tr>\n",
       "    <tr>\n",
       "      <th>1364</th>\n",
       "      <td>60158</td>\n",
       "      <td>SHSC-ZT1YP-WP8FY-45FV0-HFN9E2J3E8-50SNT-5PP8Q-...</td>\n",
       "      <td>2012-08-22</td>\n",
       "      <td>0.0</td>\n",
       "      <td>1.0</td>\n",
       "      <td>Abdomen + Pelvis CT with oral C-</td>\n",
       "      <td>2012-08-23 10:57:52.000</td>\n",
       "      <td>ct abdomen and pelvis volumetric ct images hav...</td>\n",
       "    </tr>\n",
       "    <tr>\n",
       "      <th>1365</th>\n",
       "      <td>60172</td>\n",
       "      <td>SHSC-ZT1YP-WP8FY-45FV0-HFN9E2J3E8-50SNT-5PP8Q-...</td>\n",
       "      <td>2012-08-22</td>\n",
       "      <td>0.0</td>\n",
       "      <td>1.0</td>\n",
       "      <td>Bone Scan Whole Body+Extra Views+Flow</td>\n",
       "      <td>2012-08-22 15:04:50.000</td>\n",
       "      <td>technetium mdp bone scan whole body: history:p...</td>\n",
       "    </tr>\n",
       "    <tr>\n",
       "      <th>1366</th>\n",
       "      <td>60177</td>\n",
       "      <td>SHSC-ZT1YP-WP8FY-45FV0-HFN9E2J3E8-50SNT-5PP8Q-...</td>\n",
       "      <td>2012-08-22</td>\n",
       "      <td>0.0</td>\n",
       "      <td>1.0</td>\n",
       "      <td>CT chest</td>\n",
       "      <td>2012-08-22 14:27:14.000</td>\n",
       "      <td>ct chest provided history: 69 yo male. post en...</td>\n",
       "    </tr>\n",
       "  </tbody>\n",
       "</table>\n",
       "<p>1367 rows × 8 columns</p>\n",
       "</div>"
      ],
      "text/plain": [
       "      Unnamed: 0                                         pt_shsc_id  \\\n",
       "0            147  SHSC-1AR4W-5L54C-ITDX3-TF89XE1YWW-ZKFBG-9VWKC-...   \n",
       "1            260  SHSC-1AR4W-5L54C-ITDX3-TF89XE1YWW-ZKFBG-9VWKC-...   \n",
       "2            272  SHSC-1AR4W-5L54C-ITDX3-TF89XE1YWW-ZKFBG-9VWKC-...   \n",
       "3            311  SHSC-1AR4W-5L54C-ITDX3-TF89XE1YWW-ZKFBG-9VWKC-...   \n",
       "4            389  SHSC-1AR4W-5L54C-ITDX3-TF89XE1YWW-ZKFBG-9VWKC-...   \n",
       "...          ...                                                ...   \n",
       "1362       60124  SHSC-ZT1YP-WP8FY-45FV0-HFN9E2J3E8-50SNT-5PP8Q-...   \n",
       "1363       60138  SHSC-ZT1YP-WP8FY-45FV0-HFN9E2J3E8-50SNT-5PP8Q-...   \n",
       "1364       60158  SHSC-ZT1YP-WP8FY-45FV0-HFN9E2J3E8-50SNT-5PP8Q-...   \n",
       "1365       60172  SHSC-ZT1YP-WP8FY-45FV0-HFN9E2J3E8-50SNT-5PP8Q-...   \n",
       "1366       60177  SHSC-ZT1YP-WP8FY-45FV0-HFN9E2J3E8-50SNT-5PP8Q-...   \n",
       "\n",
       "     imaging_date  healthy  fracture_or_metastases  \\\n",
       "0      2010-01-20      0.0                     0.0   \n",
       "1      2011-02-02      1.0                     0.0   \n",
       "2      2011-02-02      1.0                     0.0   \n",
       "3      2011-04-11      0.0                     1.0   \n",
       "4      2011-06-06      0.0                     1.0   \n",
       "...           ...      ...                     ...   \n",
       "1362   2012-01-27      1.0                     0.0   \n",
       "1363   2012-01-27      1.0                     0.0   \n",
       "1364   2012-08-22      0.0                     1.0   \n",
       "1365   2012-08-22      0.0                     1.0   \n",
       "1366   2012-08-22      0.0                     1.0   \n",
       "\n",
       "                                   ServDescription               ReportDate  \\\n",
       "0     Bone Mass Density High Risk - Multiple Sites  2010-01-21 11:39:00.140   \n",
       "1                     Bone Scan(Whole Body)Nuc Med  2011-02-02 16:24:11.000   \n",
       "2                       X-Ray Chest PA+LAT Routine  2011-02-02 09:12:24.000   \n",
       "3                 Abdomen + Pelvis CT with oral C+  2011-04-12 16:27:57.000   \n",
       "4                 Abdomen + Pelvis CT with oral C+  2011-06-06 15:08:04.000   \n",
       "...                                            ...                      ...   \n",
       "1362                     Nephrostomy or NUT change  2012-01-27 13:15:45.000   \n",
       "1363                           Kidney + Bladder US  2012-01-27 18:48:44.000   \n",
       "1364              Abdomen + Pelvis CT with oral C-  2012-08-23 10:57:52.000   \n",
       "1365         Bone Scan Whole Body+Extra Views+Flow  2012-08-22 15:04:50.000   \n",
       "1366                                      CT chest  2012-08-22 14:27:14.000   \n",
       "\n",
       "                                             ReportText  \n",
       "0     bone densitometry (dxa): a baseline bone densi...  \n",
       "1     technetium mdp bone scan findings: there is a ...  \n",
       "2     chest pa and lateral reference:no previous the...  \n",
       "3     ct abdomen pelvis (enhanced) comparison: ct da...  \n",
       "4     ct abdomen pelvis (enhanced) comparison: ct da...  \n",
       "...                                                 ...  \n",
       "1362  right nephrostomy catheter exchange history: u...  \n",
       "1363  findings: right nephrostomy tube in situ. mark...  \n",
       "1364  ct abdomen and pelvis volumetric ct images hav...  \n",
       "1365  technetium mdp bone scan whole body: history:p...  \n",
       "1366  ct chest provided history: 69 yo male. post en...  \n",
       "\n",
       "[1367 rows x 8 columns]"
      ]
     },
     "execution_count": 9,
     "metadata": {},
     "output_type": "execute_result"
    }
   ],
   "source": [
    "df_reports = pd.read_csv(\"data/reports_filtered.csv\")\n",
    "df_reports"
   ]
  },
  {
   "cell_type": "code",
   "execution_count": 10,
   "metadata": {},
   "outputs": [
    {
     "data": {
      "text/plain": [
       "Unnamed: 0                  int64\n",
       "pt_shsc_id                 object\n",
       "imaging_date               object\n",
       "healthy                   float64\n",
       "fracture_or_metastases    float64\n",
       "ServDescription            object\n",
       "ReportDate                 object\n",
       "ReportText                 object\n",
       "dtype: object"
      ]
     },
     "execution_count": 10,
     "metadata": {},
     "output_type": "execute_result"
    }
   ],
   "source": [
    "df_reports.dtypes"
   ]
  },
  {
   "cell_type": "code",
   "execution_count": 11,
   "metadata": {},
   "outputs": [
    {
     "data": {
      "text/plain": [
       "(1367, 768)"
      ]
     },
     "execution_count": 11,
     "metadata": {},
     "output_type": "execute_result"
    }
   ],
   "source": [
    "embeddings = df_reports['ReportText'].apply(pubmed_bert.encode).tolist()\n",
    "X = np.array(embeddings)\n",
    "X.shape"
   ]
  },
  {
   "cell_type": "code",
   "execution_count": 12,
   "metadata": {},
   "outputs": [
    {
     "data": {
      "text/plain": [
       "array([False, False, False, ...,  True,  True,  True])"
      ]
     },
     "execution_count": 12,
     "metadata": {},
     "output_type": "execute_result"
    }
   ],
   "source": [
    "labels = np.array(df_reports['fracture_or_metastases'] == 1.0)\n",
    "labels"
   ]
  },
  {
   "cell_type": "code",
   "execution_count": 13,
   "metadata": {},
   "outputs": [],
   "source": [
    "X_train, X_test, y_train, y_test = train_test_split(X, labels, test_size=0.2, random_state=42)"
   ]
  },
  {
   "cell_type": "code",
   "execution_count": null,
   "metadata": {},
   "outputs": [
    {
     "name": "stderr",
     "output_type": "stream",
     "text": [
      "/tmp/ipykernel_3696952/3790907706.py:2: UserWarning: To copy construct from a tensor, it is recommended to use sourceTensor.clone().detach() or sourceTensor.clone().detach().requires_grad_(True), rather than torch.tensor(sourceTensor).\n",
      "  X_train = torch.tensor(X_train, dtype=torch.float32)\n",
      "/tmp/ipykernel_3696952/3790907706.py:3: UserWarning: To copy construct from a tensor, it is recommended to use sourceTensor.clone().detach() or sourceTensor.clone().detach().requires_grad_(True), rather than torch.tensor(sourceTensor).\n",
      "  X_test = torch.tensor(X_test, dtype=torch.float32)\n",
      "/tmp/ipykernel_3696952/3790907706.py:4: UserWarning: To copy construct from a tensor, it is recommended to use sourceTensor.clone().detach() or sourceTensor.clone().detach().requires_grad_(True), rather than torch.tensor(sourceTensor).\n",
      "  y_train = torch.tensor(y_train, dtype=torch.float32)  # Use `torch.long` for classification targets\n",
      "/tmp/ipykernel_3696952/3790907706.py:5: UserWarning: To copy construct from a tensor, it is recommended to use sourceTensor.clone().detach() or sourceTensor.clone().detach().requires_grad_(True), rather than torch.tensor(sourceTensor).\n",
      "  y_test = torch.tensor(y_test, dtype=torch.float32)\n"
     ]
    }
   ],
   "source": [
    "# convert back to pytorch tensors\n",
    "X_train = torch.tensor(X_train, dtype=torch.float32)\n",
    "X_test = torch.tensor(X_test, dtype=torch.float32)\n",
    "y_train = torch.tensor(y_train, dtype=torch.float32)\n",
    "y_test = torch.tensor(y_test, dtype=torch.float32)"
   ]
  },
  {
   "cell_type": "code",
   "execution_count": 16,
   "metadata": {},
   "outputs": [],
   "source": [
    "class EmbeddingsNN(nn.Module):\n",
    "    def __init__(self, input_dim, hidden_dim, output_dim):\n",
    "        super(EmbeddingsNN, self).__init__()\n",
    "        \n",
    "        self.bn1 = nn.BatchNorm1d(input_dim)\n",
    "        self.mlp1 = nn.Linear(input_dim, hidden_dim)\n",
    "        self.relu = nn.ReLU()\n",
    "        self.bn2 = nn.BatchNorm1d(hidden_dim)\n",
    "        self.mlp2 = nn.Linear(hidden_dim, output_dim)\n",
    "\n",
    "    def forward(self, x):\n",
    "        x = self.bn1(x)\n",
    "        x = self.mlp1(x)\n",
    "        x = self.relu(x)\n",
    "        x = self.bn2(x)\n",
    "        x = self.mlp2(x)\n",
    "        return x"
   ]
  },
  {
   "cell_type": "code",
   "execution_count": null,
   "metadata": {},
   "outputs": [],
   "source": [
    "def train_model(model, dataloader, criterion, optimizer, epochs=50):\n",
    "    model.train()\n",
    "\n",
    "    for epoch in range(epochs):\n",
    "        running_loss = 0.0\n",
    "        for inputs, targets in dataloader:\n",
    "            optimizer.zero_grad()\n",
    "            outputs = model(inputs)\n",
    "            loss = criterion(outputs, targets)\n",
    "            loss.backward()\n",
    "            optimizer.step()\n",
    "            \n",
    "            running_loss += loss.item()\n",
    "\n",
    "        avg_loss = running_loss / len(dataloader)\n",
    "        print(f\"Epoch [{epoch + 1}/{epochs}], Loss: {avg_loss:.4f}\")"
   ]
  },
  {
   "cell_type": "code",
   "execution_count": null,
   "metadata": {},
   "outputs": [],
   "source": [
    "input_dim = 768\n",
    "hidden_dim = 20\n",
    "output_dim = 1\n",
    "learning_rate = 0.001\n",
    "batch_size = 8\n",
    "epochs = 21         # empirically has converged at about 21\n",
    "\n",
    "model = EmbeddingsNN(input_dim, hidden_dim, output_dim)\n",
    "criterion = nn.MSELoss()\n",
    "optimizer = optim.Adam(model.parameters(), lr=learning_rate)"
   ]
  },
  {
   "cell_type": "code",
   "execution_count": 49,
   "metadata": {},
   "outputs": [],
   "source": [
    "dataset = TensorDataset(X_train, y_train)\n",
    "dataloader = DataLoader(dataset, batch_size=batch_size, shuffle=True)"
   ]
  },
  {
   "cell_type": "code",
   "execution_count": null,
   "metadata": {},
   "outputs": [
    {
     "name": "stdout",
     "output_type": "stream",
     "text": [
      "Epoch [1/100], Loss: 0.5530\n",
      "Epoch [2/100], Loss: 0.2735\n",
      "Epoch [3/100], Loss: 0.2360\n",
      "Epoch [4/100], Loss: 0.2231\n",
      "Epoch [5/100], Loss: 0.2208\n",
      "Epoch [6/100], Loss: 0.2192\n",
      "Epoch [7/100], Loss: 0.2197\n",
      "Epoch [8/100], Loss: 0.2182\n",
      "Epoch [9/100], Loss: 0.2180\n",
      "Epoch [10/100], Loss: 0.2169\n",
      "Epoch [11/100], Loss: 0.2175\n",
      "Epoch [12/100], Loss: 0.2170\n",
      "Epoch [13/100], Loss: 0.2202\n",
      "Epoch [14/100], Loss: 0.2189\n",
      "Epoch [15/100], Loss: 0.2178\n",
      "Epoch [16/100], Loss: 0.2167\n",
      "Epoch [17/100], Loss: 0.2162\n",
      "Epoch [18/100], Loss: 0.2168\n",
      "Epoch [19/100], Loss: 0.2168\n",
      "Epoch [20/100], Loss: 0.2159\n",
      "Epoch [21/100], Loss: 0.2167\n",
      "Epoch [22/100], Loss: 0.2168\n",
      "Epoch [23/100], Loss: 0.2166\n",
      "Epoch [24/100], Loss: 0.2157\n",
      "Epoch [25/100], Loss: 0.2159\n",
      "Epoch [26/100], Loss: 0.2168\n",
      "Epoch [27/100], Loss: 0.2176\n",
      "Epoch [28/100], Loss: 0.2167\n",
      "Epoch [29/100], Loss: 0.2166\n",
      "Epoch [30/100], Loss: 0.2159\n",
      "Epoch [31/100], Loss: 0.2165\n",
      "Epoch [32/100], Loss: 0.2149\n",
      "Epoch [33/100], Loss: 0.2157\n",
      "Epoch [34/100], Loss: 0.2167\n",
      "Epoch [35/100], Loss: 0.2160\n",
      "Epoch [36/100], Loss: 0.2158\n",
      "Epoch [37/100], Loss: 0.2163\n",
      "Epoch [38/100], Loss: 0.2163\n",
      "Epoch [39/100], Loss: 0.2162\n",
      "Epoch [40/100], Loss: 0.2165\n",
      "Epoch [41/100], Loss: 0.2162\n",
      "Epoch [42/100], Loss: 0.2161\n",
      "Epoch [43/100], Loss: 0.2161\n",
      "Epoch [44/100], Loss: 0.2162\n",
      "Epoch [45/100], Loss: 0.2172\n",
      "Epoch [46/100], Loss: 0.2169\n",
      "Epoch [47/100], Loss: 0.2171\n",
      "Epoch [48/100], Loss: 0.2160\n",
      "Epoch [49/100], Loss: 0.2165\n",
      "Epoch [50/100], Loss: 0.2162\n",
      "Epoch [51/100], Loss: 0.2157\n",
      "Epoch [52/100], Loss: 0.2159\n",
      "Epoch [53/100], Loss: 0.2170\n",
      "Epoch [54/100], Loss: 0.2165\n",
      "Epoch [55/100], Loss: 0.2157\n",
      "Epoch [56/100], Loss: 0.2159\n",
      "Epoch [57/100], Loss: 0.2153\n",
      "Epoch [58/100], Loss: 0.2164\n",
      "Epoch [59/100], Loss: 0.2158\n",
      "Epoch [60/100], Loss: 0.2159\n",
      "Epoch [61/100], Loss: 0.2168\n",
      "Epoch [62/100], Loss: 0.2167\n",
      "Epoch [63/100], Loss: 0.2162\n",
      "Epoch [64/100], Loss: 0.2165\n",
      "Epoch [65/100], Loss: 0.2155\n",
      "Epoch [66/100], Loss: 0.2158\n",
      "Epoch [67/100], Loss: 0.2158\n",
      "Epoch [68/100], Loss: 0.2169\n",
      "Epoch [69/100], Loss: 0.2152\n",
      "Epoch [70/100], Loss: 0.2155\n",
      "Epoch [71/100], Loss: 0.2160\n",
      "Epoch [72/100], Loss: 0.2160\n",
      "Epoch [73/100], Loss: 0.2160\n",
      "Epoch [74/100], Loss: 0.2159\n",
      "Epoch [75/100], Loss: 0.2163\n",
      "Epoch [76/100], Loss: 0.2160\n",
      "Epoch [77/100], Loss: 0.2163\n",
      "Epoch [78/100], Loss: 0.2153\n",
      "Epoch [79/100], Loss: 0.2152\n",
      "Epoch [80/100], Loss: 0.2154\n",
      "Epoch [81/100], Loss: 0.2164\n",
      "Epoch [82/100], Loss: 0.2164\n",
      "Epoch [83/100], Loss: 0.2157\n",
      "Epoch [84/100], Loss: 0.2158\n",
      "Epoch [85/100], Loss: 0.2158\n",
      "Epoch [86/100], Loss: 0.2163\n",
      "Epoch [87/100], Loss: 0.2159\n",
      "Epoch [88/100], Loss: 0.2163\n",
      "Epoch [89/100], Loss: 0.2156\n",
      "Epoch [90/100], Loss: 0.2161\n",
      "Epoch [91/100], Loss: 0.2162\n",
      "Epoch [92/100], Loss: 0.2156\n",
      "Epoch [93/100], Loss: 0.2157\n",
      "Epoch [94/100], Loss: 0.2157\n",
      "Epoch [95/100], Loss: 0.2151\n",
      "Epoch [96/100], Loss: 0.2145\n",
      "Epoch [97/100], Loss: 0.2160\n",
      "Epoch [98/100], Loss: 0.2159\n",
      "Epoch [99/100], Loss: 0.2160\n",
      "Epoch [100/100], Loss: 0.2157\n"
     ]
    }
   ],
   "source": [
    "train_model(model, dataloader, criterion, optimizer, epochs)"
   ]
  },
  {
   "cell_type": "code",
   "execution_count": null,
   "metadata": {},
   "outputs": [
    {
     "name": "stdout",
     "output_type": "stream",
     "text": [
      "Accuracy: 71.17%\n",
      "F1 Score: 0.8316\n"
     ]
    }
   ],
   "source": [
    "\n",
    "model.eval()\n",
    "with torch.no_grad():\n",
    "    predictions = model(X_test)\n",
    "    predicted_labels = (predictions > 0.5).long().squeeze()\n",
    "\n",
    "accuracy = accuracy_score(y_test, predicted_labels)\n",
    "f1 = f1_score(y_test, predicted_labels)\n",
    "\n",
    "print(f\"Accuracy: {accuracy * 100:.2f}%\")\n",
    "print(f\"F1 Score: {f1:.4f}\")\n"
   ]
  }
 ],
 "metadata": {
  "kernelspec": {
   "display_name": "base",
   "language": "python",
   "name": "python3"
  },
  "language_info": {
   "codemirror_mode": {
    "name": "ipython",
    "version": 3
   },
   "file_extension": ".py",
   "mimetype": "text/x-python",
   "name": "python",
   "nbconvert_exporter": "python",
   "pygments_lexer": "ipython3",
   "version": "3.12.7"
  }
 },
 "nbformat": 4,
 "nbformat_minor": 2
}
