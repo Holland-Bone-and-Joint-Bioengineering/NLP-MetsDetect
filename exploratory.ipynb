{
 "cells": [
  {
   "cell_type": "code",
   "execution_count": 1,
   "metadata": {},
   "outputs": [],
   "source": [
    "import pandas as pd"
   ]
  },
  {
   "cell_type": "markdown",
   "metadata": {},
   "source": [
    "# Load Data"
   ]
  },
  {
   "cell_type": "markdown",
   "metadata": {},
   "source": [
    "## Report Text Data"
   ]
  },
  {
   "cell_type": "code",
   "execution_count": 119,
   "metadata": {},
   "outputs": [],
   "source": [
    "df_text = pd.read_csv(\"data/[DEIDENTIFIED]OACIS_RadiologyReport_20241024.csv\", usecols=[\"MRN\", \"ReportDate\", \"ServDescription\", \"ReportText\"])\n",
    "df_text.rename(columns={\"MRN\": \"pt_shsc_id\"}, inplace=True)\n",
    "df_text[\"ReportDate\"] = pd.to_datetime(df_text[\"ReportDate\"])\n",
    "df_text[\"ReportDate\"] = df_text[\"ReportDate\"].dt.strftime('%Y-%m-%d')"
   ]
  },
  {
   "cell_type": "code",
   "execution_count": 120,
   "metadata": {},
   "outputs": [
    {
     "name": "stdout",
     "output_type": "stream",
     "text": [
      "number of radiology reports: (29498, 4)\n",
      "number of unique patient IDs: 1007\n"
     ]
    }
   ],
   "source": [
    "print(f\"number of radiology reports: {df_text.shape}\")\n",
    "print(f\"number of unique patient IDs: {df_text['pt_shsc_id'].unique().shape[0]}\")"
   ]
  },
  {
   "cell_type": "code",
   "execution_count": 121,
   "metadata": {},
   "outputs": [
    {
     "data": {
      "text/html": [
       "<div>\n",
       "<style scoped>\n",
       "    .dataframe tbody tr th:only-of-type {\n",
       "        vertical-align: middle;\n",
       "    }\n",
       "\n",
       "    .dataframe tbody tr th {\n",
       "        vertical-align: top;\n",
       "    }\n",
       "\n",
       "    .dataframe thead th {\n",
       "        text-align: right;\n",
       "    }\n",
       "</style>\n",
       "<table border=\"1\" class=\"dataframe\">\n",
       "  <thead>\n",
       "    <tr style=\"text-align: right;\">\n",
       "      <th></th>\n",
       "      <th>pt_shsc_id</th>\n",
       "      <th>ServDescription</th>\n",
       "      <th>ReportDate</th>\n",
       "      <th>ReportText</th>\n",
       "    </tr>\n",
       "  </thead>\n",
       "  <tbody>\n",
       "    <tr>\n",
       "      <th>0</th>\n",
       "      <td>SHSC-2Z1IY-LHGS0-6OLDN-SGN7V6QK09-QUXFB-C9QAG-...</td>\n",
       "      <td>BONE DENSITOMETRY MULT. SITE  NM</td>\n",
       "      <td>1998-11-20</td>\n",
       "      <td>BONE DENSITOMETRY\\r\\nNo previous available for...</td>\n",
       "    </tr>\n",
       "    <tr>\n",
       "      <th>1</th>\n",
       "      <td>SHSC-2QDGI-JO60U-D33TD-DRTI2BV1RT-TZG89-7D46O-...</td>\n",
       "      <td>MYELOGRAM - LUMBAR</td>\n",
       "      <td>1999-03-04</td>\n",
       "      <td>CT MYELOGRAM LUMBAR SPINE\\r\\nNo previous for c...</td>\n",
       "    </tr>\n",
       "    <tr>\n",
       "      <th>2</th>\n",
       "      <td>SHSC-36H29-I47NO-NWSSS-QY16H8CRPA-9CMNJ-YS3BR-...</td>\n",
       "      <td>CHEST PA AND LAT (ROUTINE)</td>\n",
       "      <td>1999-03-08</td>\n",
       "      <td>CHEST PA AND LATERAL\\r\\nPLEURAL PARENCHYMAL SC...</td>\n",
       "    </tr>\n",
       "    <tr>\n",
       "      <th>3</th>\n",
       "      <td>SHSC-2QDGI-JO60U-D33TD-DRTI2BV1RT-TZG89-7D46O-...</td>\n",
       "      <td>K.U.B.</td>\n",
       "      <td>2000-02-15</td>\n",
       "      <td>K.U.B.\\r\\n\\r\\nNo films are available for compa...</td>\n",
       "    </tr>\n",
       "    <tr>\n",
       "      <th>4</th>\n",
       "      <td>SHSC-1V4LU-PXF4M-WRME6-FMN0UK5S6N-QOBI8-NZRBM-...</td>\n",
       "      <td>Kidney + Bladder US</td>\n",
       "      <td>2000-04-27</td>\n",
       "      <td>KIDNEY &amp; BLADDER ULTRASOUND:\\r\\n\\r\\nCOMPARISON...</td>\n",
       "    </tr>\n",
       "    <tr>\n",
       "      <th>...</th>\n",
       "      <td>...</td>\n",
       "      <td>...</td>\n",
       "      <td>...</td>\n",
       "      <td>...</td>\n",
       "    </tr>\n",
       "    <tr>\n",
       "      <th>29493</th>\n",
       "      <td>SHSC-1VI24-3RLMJ-3ZNTQ-BNY6TIQ7M1-6X9GJ-3DWIK-...</td>\n",
       "      <td>CT Chest</td>\n",
       "      <td>2023-06-22</td>\n",
       "      <td>CT CHEST\\r\\n\\r\\n\\r\\nProvided history:NONE, met...</td>\n",
       "    </tr>\n",
       "    <tr>\n",
       "      <th>29494</th>\n",
       "      <td>SHSC-30C4O-B9B1Y-5U42C-KPXDLBCPEC-8TJOT-Q6DQF-...</td>\n",
       "      <td>Abdomen + Pelvis CT with oral C+</td>\n",
       "      <td>2023-07-29</td>\n",
       "      <td>CT ABDOMEN AND PELVIS\\r\\n\\r\\n\\r\\nCLINICAL HIST...</td>\n",
       "    </tr>\n",
       "    <tr>\n",
       "      <th>29495</th>\n",
       "      <td>SHSC-1ZDWU-QIZZJ-BC7Q5-0S8K1XR7XA-OPNA2-WAF8Q-...</td>\n",
       "      <td>Bone Scan WB+ Spect</td>\n",
       "      <td>2024-03-18</td>\n",
       "      <td>TECHNETIUM-99m MDP BONE SCAN: WHOLE BODY\\r\\n\\r...</td>\n",
       "    </tr>\n",
       "    <tr>\n",
       "      <th>29496</th>\n",
       "      <td>SHSC-D66G3-ZOD02-JNKZ3-NYLF7UPC9M-5KNWS-ICJ5L-...</td>\n",
       "      <td>Abdomen + Pelvis CT with oral C+</td>\n",
       "      <td>2024-02-27</td>\n",
       "      <td>CT ABDOMEN AND PELVIS\\r\\n\\r\\n\\r\\nVolumetric im...</td>\n",
       "    </tr>\n",
       "    <tr>\n",
       "      <th>29497</th>\n",
       "      <td>SHSC-1OHOJ-HO56T-SGEQK-D41HG2R0KK-HRBWO-LX2OU-...</td>\n",
       "      <td>Bone Scan WB+ Spect</td>\n",
       "      <td>2024-03-18</td>\n",
       "      <td>TECHNETIUM-99m MDP BONE SCAN: WHOLE BODY\\r\\n\\r...</td>\n",
       "    </tr>\n",
       "  </tbody>\n",
       "</table>\n",
       "<p>29498 rows × 4 columns</p>\n",
       "</div>"
      ],
      "text/plain": [
       "                                              pt_shsc_id  \\\n",
       "0      SHSC-2Z1IY-LHGS0-6OLDN-SGN7V6QK09-QUXFB-C9QAG-...   \n",
       "1      SHSC-2QDGI-JO60U-D33TD-DRTI2BV1RT-TZG89-7D46O-...   \n",
       "2      SHSC-36H29-I47NO-NWSSS-QY16H8CRPA-9CMNJ-YS3BR-...   \n",
       "3      SHSC-2QDGI-JO60U-D33TD-DRTI2BV1RT-TZG89-7D46O-...   \n",
       "4      SHSC-1V4LU-PXF4M-WRME6-FMN0UK5S6N-QOBI8-NZRBM-...   \n",
       "...                                                  ...   \n",
       "29493  SHSC-1VI24-3RLMJ-3ZNTQ-BNY6TIQ7M1-6X9GJ-3DWIK-...   \n",
       "29494  SHSC-30C4O-B9B1Y-5U42C-KPXDLBCPEC-8TJOT-Q6DQF-...   \n",
       "29495  SHSC-1ZDWU-QIZZJ-BC7Q5-0S8K1XR7XA-OPNA2-WAF8Q-...   \n",
       "29496  SHSC-D66G3-ZOD02-JNKZ3-NYLF7UPC9M-5KNWS-ICJ5L-...   \n",
       "29497  SHSC-1OHOJ-HO56T-SGEQK-D41HG2R0KK-HRBWO-LX2OU-...   \n",
       "\n",
       "                        ServDescription  ReportDate  \\\n",
       "0      BONE DENSITOMETRY MULT. SITE  NM  1998-11-20   \n",
       "1                    MYELOGRAM - LUMBAR  1999-03-04   \n",
       "2            CHEST PA AND LAT (ROUTINE)  1999-03-08   \n",
       "3                                K.U.B.  2000-02-15   \n",
       "4                   Kidney + Bladder US  2000-04-27   \n",
       "...                                 ...         ...   \n",
       "29493                          CT Chest  2023-06-22   \n",
       "29494  Abdomen + Pelvis CT with oral C+  2023-07-29   \n",
       "29495               Bone Scan WB+ Spect  2024-03-18   \n",
       "29496  Abdomen + Pelvis CT with oral C+  2024-02-27   \n",
       "29497               Bone Scan WB+ Spect  2024-03-18   \n",
       "\n",
       "                                              ReportText  \n",
       "0      BONE DENSITOMETRY\\r\\nNo previous available for...  \n",
       "1      CT MYELOGRAM LUMBAR SPINE\\r\\nNo previous for c...  \n",
       "2      CHEST PA AND LATERAL\\r\\nPLEURAL PARENCHYMAL SC...  \n",
       "3      K.U.B.\\r\\n\\r\\nNo films are available for compa...  \n",
       "4      KIDNEY & BLADDER ULTRASOUND:\\r\\n\\r\\nCOMPARISON...  \n",
       "...                                                  ...  \n",
       "29493  CT CHEST\\r\\n\\r\\n\\r\\nProvided history:NONE, met...  \n",
       "29494  CT ABDOMEN AND PELVIS\\r\\n\\r\\n\\r\\nCLINICAL HIST...  \n",
       "29495  TECHNETIUM-99m MDP BONE SCAN: WHOLE BODY\\r\\n\\r...  \n",
       "29496  CT ABDOMEN AND PELVIS\\r\\n\\r\\n\\r\\nVolumetric im...  \n",
       "29497  TECHNETIUM-99m MDP BONE SCAN: WHOLE BODY\\r\\n\\r...  \n",
       "\n",
       "[29498 rows x 4 columns]"
      ]
     },
     "execution_count": 121,
     "metadata": {},
     "output_type": "execute_result"
    }
   ],
   "source": [
    "df_text"
   ]
  },
  {
   "cell_type": "markdown",
   "metadata": {},
   "source": [
    "## Report Labels"
   ]
  },
  {
   "cell_type": "code",
   "execution_count": 242,
   "metadata": {},
   "outputs": [],
   "source": [
    "# `report_data` stores patient fracture labels (fracture, no fracture) and other results.\n",
    "df_labels = pd.read_csv(\"data/Osteosarc_Rad_Report_Data_Oct_7.csv\", usecols=[\n",
    "\t\"pt_shsc_id\",\n",
    "\t\"imaging_date\",\n",
    "\t'image_ct___1', \n",
    "\t'image_ct___2', \n",
    "\t'image_ct___3',\n",
    "])\n",
    "\n",
    "df_labels.rename(columns={\n",
    "\t\"image_ct___1\": \"fracture\",\n",
    "\t\"image_ct___2\": \"metastases\",\n",
    "\t\"image_ct___3\": \"healthy\"\n",
    "}, inplace=True)\n",
    "\n",
    "df_labels[\"fracture_or_metastases\"] = df_labels[\"fracture\"] + df_labels[\"metastases\"]\n",
    "df_labels[\"fracture_or_metastases\"] = df_labels[\"fracture_or_metastases\"].apply(lambda x: min(x[\"fracture_or_metastases\"], 1))\n",
    "df_labels.drop(columns=[\"fracture\", \"metastases\"], inplace=True)"
   ]
  },
  {
   "cell_type": "code",
   "execution_count": 243,
   "metadata": {},
   "outputs": [],
   "source": [
    "df_labels = df_labels[~df_labels[\"healthy\"].isna()]"
   ]
  },
  {
   "cell_type": "code",
   "execution_count": 248,
   "metadata": {},
   "outputs": [
    {
     "name": "stdout",
     "output_type": "stream",
     "text": [
      "count of metastases or fracture detected: 778/1269\n",
      "count of healthy: 365/1269\n",
      "count of no records: 126/1269\n"
     ]
    }
   ],
   "source": [
    "print(\n",
    "\tf\"count of metastases or fracture detected: {len(df_labels[df_labels['fracture_or_metastases'] >= 1])}/{len(df_labels)}\"\n",
    ")\n",
    "print(\n",
    "\tf\"count of healthy: {len(df_labels[df_labels['healthy'] == 1])}/{len(df_labels)}\"\n",
    ")\n",
    "print(\n",
    "\tf\"count of no records: {len(df_labels[(df_labels['healthy'] == 0) & (df_labels['fracture_or_metastases'] == 0)])}/{len(df_labels)}\"\n",
    ")"
   ]
  },
  {
   "cell_type": "markdown",
   "metadata": {},
   "source": [
    "# Matching"
   ]
  },
  {
   "cell_type": "code",
   "execution_count": null,
   "metadata": {},
   "outputs": [],
   "source": []
  }
 ],
 "metadata": {
  "kernelspec": {
   "display_name": "myenv",
   "language": "python",
   "name": "python3"
  },
  "language_info": {
   "codemirror_mode": {
    "name": "ipython",
    "version": 3
   },
   "file_extension": ".py",
   "mimetype": "text/x-python",
   "name": "python",
   "nbconvert_exporter": "python",
   "pygments_lexer": "ipython3",
   "version": "3.10.15"
  }
 },
 "nbformat": 4,
 "nbformat_minor": 2
}
