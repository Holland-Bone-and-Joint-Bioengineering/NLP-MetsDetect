{
 "cells": [
  {
   "cell_type": "code",
   "execution_count": 1,
   "metadata": {},
   "outputs": [
    {
     "name": "stdout",
     "output_type": "stream",
     "text": [
      "Note: you may need to restart the kernel to use updated packages.\n"
     ]
    }
   ],
   "source": [
    "pip install -q datasets sentence-transformers faiss-cpu accelerate langchain langchain-community"
   ]
  },
  {
   "cell_type": "code",
   "execution_count": 2,
   "metadata": {},
   "outputs": [],
   "source": [
    "import numpy as np\n",
    "import pandas as pd\n",
    "from sklearn.metrics import accuracy_score, f1_score\n",
    "from transformers import LlamaForCausalLM, LlamaTokenizerFast       # LLM for report classificuing\n",
    "from sentence_transformers import SentenceTransformer       # for embedding model\n",
    "from sklearn.model_selection import train_test_split\n",
    "import os\n",
    "\n",
    "from langchain.embeddings import HuggingFaceEmbeddings\n",
    "from langchain.vectorstores import FAISS\n",
    "from langchain.text_splitter import RecursiveCharacterTextSplitter\n",
    "from langchain.document_loaders import DataFrameLoader\n",
    "from langchain.llms import HuggingFacePipeline\n",
    "from langchain.chains import RetrievalQA\n",
    "from transformers import AutoTokenizer, pipeline #, AutoModelForSeq2SeqGeneration"
   ]
  },
  {
   "cell_type": "code",
   "execution_count": 3,
   "metadata": {},
   "outputs": [],
   "source": [
    "filename = \"data/labeled_data_combined_reports.csv\""
   ]
  },
  {
   "cell_type": "code",
   "execution_count": 4,
   "metadata": {},
   "outputs": [
    {
     "data": {
      "text/html": [
       "<div>\n",
       "<style scoped>\n",
       "    .dataframe tbody tr th:only-of-type {\n",
       "        vertical-align: middle;\n",
       "    }\n",
       "\n",
       "    .dataframe tbody tr th {\n",
       "        vertical-align: top;\n",
       "    }\n",
       "\n",
       "    .dataframe thead th {\n",
       "        text-align: right;\n",
       "    }\n",
       "</style>\n",
       "<table border=\"1\" class=\"dataframe\">\n",
       "  <thead>\n",
       "    <tr style=\"text-align: right;\">\n",
       "      <th></th>\n",
       "      <th>Unnamed: 0</th>\n",
       "      <th>patient_id</th>\n",
       "      <th>imaging_date</th>\n",
       "      <th>reports</th>\n",
       "      <th>image_ct___1</th>\n",
       "      <th>image_ct___2</th>\n",
       "      <th>image_ct___3</th>\n",
       "      <th>combined_reports</th>\n",
       "    </tr>\n",
       "  </thead>\n",
       "  <tbody>\n",
       "    <tr>\n",
       "      <th>0</th>\n",
       "      <td>0</td>\n",
       "      <td>SHSC-134CJ-PV3YY-9L6O6-PLRA9OVTHG-4JZ2M-UR0UO-...</td>\n",
       "      <td>2010-09-21</td>\n",
       "      <td>Bone Scan(Whole Body)Nuc Med TECHNETIUM MDP BO...</td>\n",
       "      <td>0.0</td>\n",
       "      <td>1.0</td>\n",
       "      <td>0.0</td>\n",
       "      <td>Bone Scan(Whole Body)Nuc Med TECHNETIUM MDP BO...</td>\n",
       "    </tr>\n",
       "    <tr>\n",
       "      <th>1</th>\n",
       "      <td>1</td>\n",
       "      <td>SHSC-134CJ-PV3YY-9L6O6-PLRA9OVTHG-4JZ2M-UR0UO-...</td>\n",
       "      <td>2011-01-13</td>\n",
       "      <td>CT Chest History:\\rFollow-up scan for OZM-011 ...</td>\n",
       "      <td>1.0</td>\n",
       "      <td>1.0</td>\n",
       "      <td>0.0</td>\n",
       "      <td>Bone Scan(Whole Body)Nuc Med TECHNETIUM MDP BO...</td>\n",
       "    </tr>\n",
       "  </tbody>\n",
       "</table>\n",
       "</div>"
      ],
      "text/plain": [
       "  Unnamed: 0                                         patient_id imaging_date  \\\n",
       "0          0  SHSC-134CJ-PV3YY-9L6O6-PLRA9OVTHG-4JZ2M-UR0UO-...   2010-09-21   \n",
       "1          1  SHSC-134CJ-PV3YY-9L6O6-PLRA9OVTHG-4JZ2M-UR0UO-...   2011-01-13   \n",
       "\n",
       "                                             reports image_ct___1  \\\n",
       "0  Bone Scan(Whole Body)Nuc Med TECHNETIUM MDP BO...          0.0   \n",
       "1  CT Chest History:\\rFollow-up scan for OZM-011 ...          1.0   \n",
       "\n",
       "   image_ct___2  image_ct___3  \\\n",
       "0           1.0           0.0   \n",
       "1           1.0           0.0   \n",
       "\n",
       "                                    combined_reports  \n",
       "0  Bone Scan(Whole Body)Nuc Med TECHNETIUM MDP BO...  \n",
       "1  Bone Scan(Whole Body)Nuc Med TECHNETIUM MDP BO...  "
      ]
     },
     "execution_count": 4,
     "metadata": {},
     "output_type": "execute_result"
    }
   ],
   "source": [
    "# load data in df format\n",
    "df_reports = pd.read_csv(filename)\n",
    "df_reports.head(2)"
   ]
  },
  {
   "cell_type": "code",
   "execution_count": 5,
   "metadata": {},
   "outputs": [
    {
     "data": {
      "text/html": [
       "<div>\n",
       "<style scoped>\n",
       "    .dataframe tbody tr th:only-of-type {\n",
       "        vertical-align: middle;\n",
       "    }\n",
       "\n",
       "    .dataframe tbody tr th {\n",
       "        vertical-align: top;\n",
       "    }\n",
       "\n",
       "    .dataframe thead th {\n",
       "        text-align: right;\n",
       "    }\n",
       "</style>\n",
       "<table border=\"1\" class=\"dataframe\">\n",
       "  <thead>\n",
       "    <tr style=\"text-align: right;\">\n",
       "      <th></th>\n",
       "      <th>Unnamed: 0</th>\n",
       "      <th>patient_id</th>\n",
       "      <th>imaging_date</th>\n",
       "      <th>reports</th>\n",
       "      <th>image_ct___1</th>\n",
       "      <th>image_ct___2</th>\n",
       "      <th>image_ct___3</th>\n",
       "      <th>combined_reports</th>\n",
       "      <th>report_and_frac_label</th>\n",
       "      <th>report_and_mets_label</th>\n",
       "    </tr>\n",
       "  </thead>\n",
       "  <tbody>\n",
       "    <tr>\n",
       "      <th>0</th>\n",
       "      <td>0</td>\n",
       "      <td>SHSC-134CJ-PV3YY-9L6O6-PLRA9OVTHG-4JZ2M-UR0UO-...</td>\n",
       "      <td>2010-09-21</td>\n",
       "      <td>Bone Scan(Whole Body)Nuc Med TECHNETIUM MDP BO...</td>\n",
       "      <td>0.0</td>\n",
       "      <td>1.0</td>\n",
       "      <td>0.0</td>\n",
       "      <td>Bone Scan(Whole Body)Nuc Med TECHNETIUM MDP BO...</td>\n",
       "      <td>Report:\\nBone Scan(Whole Body)Nuc Med TECHNETI...</td>\n",
       "      <td>Report:\\nBone Scan(Whole Body)Nuc Med TECHNETI...</td>\n",
       "    </tr>\n",
       "    <tr>\n",
       "      <th>1</th>\n",
       "      <td>1</td>\n",
       "      <td>SHSC-134CJ-PV3YY-9L6O6-PLRA9OVTHG-4JZ2M-UR0UO-...</td>\n",
       "      <td>2011-01-13</td>\n",
       "      <td>CT Chest History:\\rFollow-up scan for OZM-011 ...</td>\n",
       "      <td>1.0</td>\n",
       "      <td>1.0</td>\n",
       "      <td>0.0</td>\n",
       "      <td>Bone Scan(Whole Body)Nuc Med TECHNETIUM MDP BO...</td>\n",
       "      <td>Report:\\nBone Scan(Whole Body)Nuc Med TECHNETI...</td>\n",
       "      <td>Report:\\nBone Scan(Whole Body)Nuc Med TECHNETI...</td>\n",
       "    </tr>\n",
       "    <tr>\n",
       "      <th>2</th>\n",
       "      <td>2</td>\n",
       "      <td>SHSC-134CJ-PV3YY-9L6O6-PLRA9OVTHG-4JZ2M-UR0UO-...</td>\n",
       "      <td>2011-05-27</td>\n",
       "      <td>Bone Scan(Whole Body)Nuc Med TECHNETIUM MDP BO...</td>\n",
       "      <td>1.0</td>\n",
       "      <td>1.0</td>\n",
       "      <td>0.0</td>\n",
       "      <td>Bone Scan(Whole Body)Nuc Med TECHNETIUM MDP BO...</td>\n",
       "      <td>Report:\\nBone Scan(Whole Body)Nuc Med TECHNETI...</td>\n",
       "      <td>Report:\\nBone Scan(Whole Body)Nuc Med TECHNETI...</td>\n",
       "    </tr>\n",
       "    <tr>\n",
       "      <th>16</th>\n",
       "      <td>4</td>\n",
       "      <td>SHSC-134CJ-PV3YY-9L6O6-PLRA9OVTHG-4JZ2M-UR0UO-...</td>\n",
       "      <td>2011-11-03</td>\n",
       "      <td>Bone Scan Whole Body+Extra Views+Flow+Spect TE...</td>\n",
       "      <td>0.0</td>\n",
       "      <td>1.0</td>\n",
       "      <td>0.0</td>\n",
       "      <td>Bone Scan(Whole Body)Nuc Med TECHNETIUM MDP BO...</td>\n",
       "      <td>Report:\\nBone Scan(Whole Body)Nuc Med TECHNETI...</td>\n",
       "      <td>Report:\\nBone Scan(Whole Body)Nuc Med TECHNETI...</td>\n",
       "    </tr>\n",
       "    <tr>\n",
       "      <th>17</th>\n",
       "      <td>5</td>\n",
       "      <td>SHSC-134CJ-PV3YY-9L6O6-PLRA9OVTHG-4JZ2M-UR0UO-...</td>\n",
       "      <td>2011-12-16</td>\n",
       "      <td>X-Ray Pelvis -Hip &amp; Femur : RT PELVIS AND RIGH...</td>\n",
       "      <td>1.0</td>\n",
       "      <td>1.0</td>\n",
       "      <td>0.0</td>\n",
       "      <td>Bone Scan(Whole Body)Nuc Med TECHNETIUM MDP BO...</td>\n",
       "      <td>Report:\\nBone Scan(Whole Body)Nuc Med TECHNETI...</td>\n",
       "      <td>Report:\\nBone Scan(Whole Body)Nuc Med TECHNETI...</td>\n",
       "    </tr>\n",
       "    <tr>\n",
       "      <th>18</th>\n",
       "      <td>6</td>\n",
       "      <td>SHSC-16KG4-P6VT6-Z3FQN-U9WHYAE4HP-0QTGU-PDOMW-...</td>\n",
       "      <td>2010-04-29</td>\n",
       "      <td>Bone Scan Whole Body+Extra Views+Flow TECHNETI...</td>\n",
       "      <td>1.0</td>\n",
       "      <td>1.0</td>\n",
       "      <td>0.0</td>\n",
       "      <td>Bone Scan Whole Body+Extra Views+Flow TECHNETI...</td>\n",
       "      <td>Report:\\nBone Scan Whole Body+Extra Views+Flow...</td>\n",
       "      <td>Report:\\nBone Scan Whole Body+Extra Views+Flow...</td>\n",
       "    </tr>\n",
       "    <tr>\n",
       "      <th>19</th>\n",
       "      <td>7</td>\n",
       "      <td>SHSC-16KG4-P6VT6-Z3FQN-U9WHYAE4HP-0QTGU-PDOMW-...</td>\n",
       "      <td>2011-11-24</td>\n",
       "      <td>Abdomen + Pelvis CT with oral C+ TECHNIQUE:  V...</td>\n",
       "      <td>1.0</td>\n",
       "      <td>1.0</td>\n",
       "      <td>0.0</td>\n",
       "      <td>Bone Scan Whole Body+Extra Views+Flow TECHNETI...</td>\n",
       "      <td>Report:\\nBone Scan Whole Body+Extra Views+Flow...</td>\n",
       "      <td>Report:\\nBone Scan Whole Body+Extra Views+Flow...</td>\n",
       "    </tr>\n",
       "    <tr>\n",
       "      <th>37</th>\n",
       "      <td>9</td>\n",
       "      <td>SHSC-172GA-8TFUS-1WNL6-BUVSWZ4RWB-4CJ89-J5Q06-...</td>\n",
       "      <td>2015-09-08</td>\n",
       "      <td>CT Chest History:  65 yo Male. CA PROSTATE; ly...</td>\n",
       "      <td>0.0</td>\n",
       "      <td>0.0</td>\n",
       "      <td>1.0</td>\n",
       "      <td>Bone Scan Whole Body+Extra Views+Flow+Spect TE...</td>\n",
       "      <td>Report:\\nBone Scan Whole Body+Extra Views+Flow...</td>\n",
       "      <td>Report:\\nBone Scan Whole Body+Extra Views+Flow...</td>\n",
       "    </tr>\n",
       "    <tr>\n",
       "      <th>38</th>\n",
       "      <td>10</td>\n",
       "      <td>SHSC-172GA-8TFUS-1WNL6-BUVSWZ4RWB-4CJ89-J5Q06-...</td>\n",
       "      <td>2016-01-15</td>\n",
       "      <td>Bone Scan Whole Body+Extra Views+Flow+Spect TE...</td>\n",
       "      <td>0.0</td>\n",
       "      <td>1.0</td>\n",
       "      <td>0.0</td>\n",
       "      <td>Bone Scan Whole Body+Extra Views+Flow+Spect TE...</td>\n",
       "      <td>Report:\\nBone Scan Whole Body+Extra Views+Flow...</td>\n",
       "      <td>Report:\\nBone Scan Whole Body+Extra Views+Flow...</td>\n",
       "    </tr>\n",
       "    <tr>\n",
       "      <th>39</th>\n",
       "      <td>11</td>\n",
       "      <td>SHSC-178WS-35GE9-4QOB6-413RR0A6Y8-J4L41-6GS34-...</td>\n",
       "      <td>2008-12-04</td>\n",
       "      <td>Bone Scan Whole Body+Extra Views+Flow TECHNETI...</td>\n",
       "      <td>0.0</td>\n",
       "      <td>0.0</td>\n",
       "      <td>1.0</td>\n",
       "      <td>Bone Scan Whole Body+Extra Views+Flow TECHNETI...</td>\n",
       "      <td>Report:\\nBone Scan Whole Body+Extra Views+Flow...</td>\n",
       "      <td>Report:\\nBone Scan Whole Body+Extra Views+Flow...</td>\n",
       "    </tr>\n",
       "  </tbody>\n",
       "</table>\n",
       "</div>"
      ],
      "text/plain": [
       "   Unnamed: 0                                         patient_id imaging_date  \\\n",
       "0           0  SHSC-134CJ-PV3YY-9L6O6-PLRA9OVTHG-4JZ2M-UR0UO-...   2010-09-21   \n",
       "1           1  SHSC-134CJ-PV3YY-9L6O6-PLRA9OVTHG-4JZ2M-UR0UO-...   2011-01-13   \n",
       "2           2  SHSC-134CJ-PV3YY-9L6O6-PLRA9OVTHG-4JZ2M-UR0UO-...   2011-05-27   \n",
       "16          4  SHSC-134CJ-PV3YY-9L6O6-PLRA9OVTHG-4JZ2M-UR0UO-...   2011-11-03   \n",
       "17          5  SHSC-134CJ-PV3YY-9L6O6-PLRA9OVTHG-4JZ2M-UR0UO-...   2011-12-16   \n",
       "18          6  SHSC-16KG4-P6VT6-Z3FQN-U9WHYAE4HP-0QTGU-PDOMW-...   2010-04-29   \n",
       "19          7  SHSC-16KG4-P6VT6-Z3FQN-U9WHYAE4HP-0QTGU-PDOMW-...   2011-11-24   \n",
       "37          9  SHSC-172GA-8TFUS-1WNL6-BUVSWZ4RWB-4CJ89-J5Q06-...   2015-09-08   \n",
       "38         10  SHSC-172GA-8TFUS-1WNL6-BUVSWZ4RWB-4CJ89-J5Q06-...   2016-01-15   \n",
       "39         11  SHSC-178WS-35GE9-4QOB6-413RR0A6Y8-J4L41-6GS34-...   2008-12-04   \n",
       "\n",
       "                                              reports image_ct___1  \\\n",
       "0   Bone Scan(Whole Body)Nuc Med TECHNETIUM MDP BO...          0.0   \n",
       "1   CT Chest History:\\rFollow-up scan for OZM-011 ...          1.0   \n",
       "2   Bone Scan(Whole Body)Nuc Med TECHNETIUM MDP BO...          1.0   \n",
       "16  Bone Scan Whole Body+Extra Views+Flow+Spect TE...          0.0   \n",
       "17  X-Ray Pelvis -Hip & Femur : RT PELVIS AND RIGH...          1.0   \n",
       "18  Bone Scan Whole Body+Extra Views+Flow TECHNETI...          1.0   \n",
       "19  Abdomen + Pelvis CT with oral C+ TECHNIQUE:  V...          1.0   \n",
       "37  CT Chest History:  65 yo Male. CA PROSTATE; ly...          0.0   \n",
       "38  Bone Scan Whole Body+Extra Views+Flow+Spect TE...          0.0   \n",
       "39  Bone Scan Whole Body+Extra Views+Flow TECHNETI...          0.0   \n",
       "\n",
       "    image_ct___2  image_ct___3  \\\n",
       "0            1.0           0.0   \n",
       "1            1.0           0.0   \n",
       "2            1.0           0.0   \n",
       "16           1.0           0.0   \n",
       "17           1.0           0.0   \n",
       "18           1.0           0.0   \n",
       "19           1.0           0.0   \n",
       "37           0.0           1.0   \n",
       "38           1.0           0.0   \n",
       "39           0.0           1.0   \n",
       "\n",
       "                                     combined_reports  \\\n",
       "0   Bone Scan(Whole Body)Nuc Med TECHNETIUM MDP BO...   \n",
       "1   Bone Scan(Whole Body)Nuc Med TECHNETIUM MDP BO...   \n",
       "2   Bone Scan(Whole Body)Nuc Med TECHNETIUM MDP BO...   \n",
       "16  Bone Scan(Whole Body)Nuc Med TECHNETIUM MDP BO...   \n",
       "17  Bone Scan(Whole Body)Nuc Med TECHNETIUM MDP BO...   \n",
       "18  Bone Scan Whole Body+Extra Views+Flow TECHNETI...   \n",
       "19  Bone Scan Whole Body+Extra Views+Flow TECHNETI...   \n",
       "37  Bone Scan Whole Body+Extra Views+Flow+Spect TE...   \n",
       "38  Bone Scan Whole Body+Extra Views+Flow+Spect TE...   \n",
       "39  Bone Scan Whole Body+Extra Views+Flow TECHNETI...   \n",
       "\n",
       "                                report_and_frac_label  \\\n",
       "0   Report:\\nBone Scan(Whole Body)Nuc Med TECHNETI...   \n",
       "1   Report:\\nBone Scan(Whole Body)Nuc Med TECHNETI...   \n",
       "2   Report:\\nBone Scan(Whole Body)Nuc Med TECHNETI...   \n",
       "16  Report:\\nBone Scan(Whole Body)Nuc Med TECHNETI...   \n",
       "17  Report:\\nBone Scan(Whole Body)Nuc Med TECHNETI...   \n",
       "18  Report:\\nBone Scan Whole Body+Extra Views+Flow...   \n",
       "19  Report:\\nBone Scan Whole Body+Extra Views+Flow...   \n",
       "37  Report:\\nBone Scan Whole Body+Extra Views+Flow...   \n",
       "38  Report:\\nBone Scan Whole Body+Extra Views+Flow...   \n",
       "39  Report:\\nBone Scan Whole Body+Extra Views+Flow...   \n",
       "\n",
       "                                report_and_mets_label  \n",
       "0   Report:\\nBone Scan(Whole Body)Nuc Med TECHNETI...  \n",
       "1   Report:\\nBone Scan(Whole Body)Nuc Med TECHNETI...  \n",
       "2   Report:\\nBone Scan(Whole Body)Nuc Med TECHNETI...  \n",
       "16  Report:\\nBone Scan(Whole Body)Nuc Med TECHNETI...  \n",
       "17  Report:\\nBone Scan(Whole Body)Nuc Med TECHNETI...  \n",
       "18  Report:\\nBone Scan Whole Body+Extra Views+Flow...  \n",
       "19  Report:\\nBone Scan Whole Body+Extra Views+Flow...  \n",
       "37  Report:\\nBone Scan Whole Body+Extra Views+Flow...  \n",
       "38  Report:\\nBone Scan Whole Body+Extra Views+Flow...  \n",
       "39  Report:\\nBone Scan Whole Body+Extra Views+Flow...  "
      ]
     },
     "execution_count": 5,
     "metadata": {},
     "output_type": "execute_result"
    }
   ],
   "source": [
    "df_reports[\"report_and_frac_label\"] = (\n",
    "    \"Report:\\n\" + \n",
    "    df_reports[\"combined_reports\"] + \n",
    "    \"\\n\\nFracture classification:\\n\" + \n",
    "    df_reports[\"image_ct___1\"]\n",
    "    # df_reports[\"image_ct___1\"].apply(lambda x: \"Positive\" if float(x) > 0 else \"Negative\")\n",
    ")\n",
    "\n",
    "df_reports[\"report_and_mets_label\"] = (\n",
    "    \"Report:\\n\" + \n",
    "    df_reports[\"combined_reports\"] + \n",
    "    \"\\n\\nMetastases classification:\\n\" + \n",
    "    df_reports[\"image_ct___1\"]\n",
    "    # df_reports[\"image_ct___2\"].apply(lambda x: \"Positive\" if float(x) > 0 else \"Negative\")\n",
    ")\n",
    "\n",
    "# drop reports that have NaN in reports column\n",
    "df_reports = df_reports.dropna(subset=[\"report_and_frac_label\", \"report_and_mets_label\"])\n",
    "\n",
    "df_reports.head(10)\n"
   ]
  },
  {
   "cell_type": "code",
   "execution_count": 6,
   "metadata": {},
   "outputs": [],
   "source": [
    "# load data in datasets format\n",
    "from datasets import load_dataset\n",
    "dataset = load_dataset('csv', data_files=filename)"
   ]
  },
  {
   "cell_type": "code",
   "execution_count": 7,
   "metadata": {},
   "outputs": [
    {
     "data": {
      "text/plain": [
       "Dataset({\n",
       "    features: ['Unnamed: 0', 'patient_id', 'imaging_date', 'reports', 'image_ct___1', 'image_ct___2', 'image_ct___3', 'combined_reports'],\n",
       "    num_rows: 942\n",
       "})"
      ]
     },
     "execution_count": 7,
     "metadata": {},
     "output_type": "execute_result"
    }
   ],
   "source": [
    "data = dataset[\"train\"]\n",
    "# data = data[\"combined_reports\"]\n",
    "data"
   ]
  },
  {
   "cell_type": "code",
   "execution_count": 8,
   "metadata": {},
   "outputs": [
    {
     "ename": "ValueError",
     "evalue": "Columns ['embeddings'] not in the dataset. Current columns in the dataset: ['Unnamed: 0', 'patient_id', 'imaging_date', 'reports', 'image_ct___1', 'image_ct___2', 'image_ct___3', 'combined_reports']",
     "output_type": "error",
     "traceback": [
      "\u001b[0;31m---------------------------------------------------------------------------\u001b[0m",
      "\u001b[0;31mValueError\u001b[0m                                Traceback (most recent call last)",
      "Cell \u001b[0;32mIn[8], line 1\u001b[0m\n\u001b[0;32m----> 1\u001b[0m data\u001b[38;5;241m.\u001b[39madd_faiss_index(\u001b[38;5;124m\"\u001b[39m\u001b[38;5;124membeddings\u001b[39m\u001b[38;5;124m\"\u001b[39m)\n",
      "File \u001b[0;32m~/anaconda3/lib/python3.12/site-packages/datasets/arrow_dataset.py:5758\u001b[0m, in \u001b[0;36mDataset.add_faiss_index\u001b[0;34m(self, column, index_name, device, string_factory, metric_type, custom_index, batch_size, train_size, faiss_verbose, dtype)\u001b[0m\n\u001b[1;32m   5692\u001b[0m \u001b[38;5;28;01mdef\u001b[39;00m \u001b[38;5;21madd_faiss_index\u001b[39m(\n\u001b[1;32m   5693\u001b[0m     \u001b[38;5;28mself\u001b[39m,\n\u001b[1;32m   5694\u001b[0m     column: \u001b[38;5;28mstr\u001b[39m,\n\u001b[0;32m   (...)\u001b[0m\n\u001b[1;32m   5703\u001b[0m     dtype\u001b[38;5;241m=\u001b[39mnp\u001b[38;5;241m.\u001b[39mfloat32,\n\u001b[1;32m   5704\u001b[0m ):\n\u001b[1;32m   5705\u001b[0m \u001b[38;5;250m    \u001b[39m\u001b[38;5;124;03m\"\"\"Add a dense index using Faiss for fast retrieval.\u001b[39;00m\n\u001b[1;32m   5706\u001b[0m \u001b[38;5;124;03m    By default the index is done over the vectors of the specified column.\u001b[39;00m\n\u001b[1;32m   5707\u001b[0m \u001b[38;5;124;03m    You can specify `device` if you want to run it on GPU (`device` must be the GPU index).\u001b[39;00m\n\u001b[0;32m   (...)\u001b[0m\n\u001b[1;32m   5756\u001b[0m \u001b[38;5;124;03m    ```\u001b[39;00m\n\u001b[1;32m   5757\u001b[0m \u001b[38;5;124;03m    \"\"\"\u001b[39;00m\n\u001b[0;32m-> 5758\u001b[0m     \u001b[38;5;28;01mwith\u001b[39;00m \u001b[38;5;28mself\u001b[39m\u001b[38;5;241m.\u001b[39mformatted_as(\u001b[38;5;28mtype\u001b[39m\u001b[38;5;241m=\u001b[39m\u001b[38;5;124m\"\u001b[39m\u001b[38;5;124mnumpy\u001b[39m\u001b[38;5;124m\"\u001b[39m, columns\u001b[38;5;241m=\u001b[39m[column], dtype\u001b[38;5;241m=\u001b[39mdtype):\n\u001b[1;32m   5759\u001b[0m         \u001b[38;5;28msuper\u001b[39m()\u001b[38;5;241m.\u001b[39madd_faiss_index(\n\u001b[1;32m   5760\u001b[0m             column\u001b[38;5;241m=\u001b[39mcolumn,\n\u001b[1;32m   5761\u001b[0m             index_name\u001b[38;5;241m=\u001b[39mindex_name,\n\u001b[0;32m   (...)\u001b[0m\n\u001b[1;32m   5768\u001b[0m             faiss_verbose\u001b[38;5;241m=\u001b[39mfaiss_verbose,\n\u001b[1;32m   5769\u001b[0m         )\n\u001b[1;32m   5770\u001b[0m     \u001b[38;5;28;01mreturn\u001b[39;00m \u001b[38;5;28mself\u001b[39m\n",
      "File \u001b[0;32m~/anaconda3/lib/python3.12/contextlib.py:137\u001b[0m, in \u001b[0;36m_GeneratorContextManager.__enter__\u001b[0;34m(self)\u001b[0m\n\u001b[1;32m    135\u001b[0m \u001b[38;5;28;01mdel\u001b[39;00m \u001b[38;5;28mself\u001b[39m\u001b[38;5;241m.\u001b[39margs, \u001b[38;5;28mself\u001b[39m\u001b[38;5;241m.\u001b[39mkwds, \u001b[38;5;28mself\u001b[39m\u001b[38;5;241m.\u001b[39mfunc\n\u001b[1;32m    136\u001b[0m \u001b[38;5;28;01mtry\u001b[39;00m:\n\u001b[0;32m--> 137\u001b[0m     \u001b[38;5;28;01mreturn\u001b[39;00m \u001b[38;5;28mnext\u001b[39m(\u001b[38;5;28mself\u001b[39m\u001b[38;5;241m.\u001b[39mgen)\n\u001b[1;32m    138\u001b[0m \u001b[38;5;28;01mexcept\u001b[39;00m \u001b[38;5;167;01mStopIteration\u001b[39;00m:\n\u001b[1;32m    139\u001b[0m     \u001b[38;5;28;01mraise\u001b[39;00m \u001b[38;5;167;01mRuntimeError\u001b[39;00m(\u001b[38;5;124m\"\u001b[39m\u001b[38;5;124mgenerator didn\u001b[39m\u001b[38;5;124m'\u001b[39m\u001b[38;5;124mt yield\u001b[39m\u001b[38;5;124m\"\u001b[39m) \u001b[38;5;28;01mfrom\u001b[39;00m \u001b[38;5;28;01mNone\u001b[39;00m\n",
      "File \u001b[0;32m~/anaconda3/lib/python3.12/site-packages/datasets/arrow_dataset.py:2457\u001b[0m, in \u001b[0;36mDataset.formatted_as\u001b[0;34m(self, type, columns, output_all_columns, **format_kwargs)\u001b[0m\n\u001b[1;32m   2455\u001b[0m old_output_all_columns \u001b[38;5;241m=\u001b[39m \u001b[38;5;28mself\u001b[39m\u001b[38;5;241m.\u001b[39m_output_all_columns\n\u001b[1;32m   2456\u001b[0m \u001b[38;5;28;01mtry\u001b[39;00m:\n\u001b[0;32m-> 2457\u001b[0m     \u001b[38;5;28mself\u001b[39m\u001b[38;5;241m.\u001b[39mset_format(\u001b[38;5;28mtype\u001b[39m, columns, output_all_columns, \u001b[38;5;241m*\u001b[39m\u001b[38;5;241m*\u001b[39mformat_kwargs)\n\u001b[1;32m   2458\u001b[0m     \u001b[38;5;28;01myield\u001b[39;00m\n\u001b[1;32m   2459\u001b[0m \u001b[38;5;28;01mfinally\u001b[39;00m:\n",
      "File \u001b[0;32m~/anaconda3/lib/python3.12/site-packages/datasets/fingerprint.py:442\u001b[0m, in \u001b[0;36mfingerprint_transform.<locals>._fingerprint.<locals>.wrapper\u001b[0;34m(*args, **kwargs)\u001b[0m\n\u001b[1;32m    438\u001b[0m             validate_fingerprint(kwargs[fingerprint_name])\n\u001b[1;32m    440\u001b[0m \u001b[38;5;66;03m# Call actual function\u001b[39;00m\n\u001b[0;32m--> 442\u001b[0m out \u001b[38;5;241m=\u001b[39m func(dataset, \u001b[38;5;241m*\u001b[39margs, \u001b[38;5;241m*\u001b[39m\u001b[38;5;241m*\u001b[39mkwargs)\n\u001b[1;32m    444\u001b[0m \u001b[38;5;66;03m# Update fingerprint of in-place transforms + update in-place history of transforms\u001b[39;00m\n\u001b[1;32m    446\u001b[0m \u001b[38;5;28;01mif\u001b[39;00m inplace:  \u001b[38;5;66;03m# update after calling func so that the fingerprint doesn't change if the function fails\u001b[39;00m\n",
      "File \u001b[0;32m~/anaconda3/lib/python3.12/site-packages/datasets/arrow_dataset.py:2523\u001b[0m, in \u001b[0;36mDataset.set_format\u001b[0;34m(self, type, columns, output_all_columns, **format_kwargs)\u001b[0m\n\u001b[1;32m   2521\u001b[0m     missing_columns \u001b[38;5;241m=\u001b[39m \u001b[38;5;28mset\u001b[39m(columns) \u001b[38;5;241m-\u001b[39m \u001b[38;5;28mset\u001b[39m(\u001b[38;5;28mself\u001b[39m\u001b[38;5;241m.\u001b[39m_data\u001b[38;5;241m.\u001b[39mcolumn_names)\n\u001b[1;32m   2522\u001b[0m     \u001b[38;5;28;01mif\u001b[39;00m missing_columns:\n\u001b[0;32m-> 2523\u001b[0m         \u001b[38;5;28;01mraise\u001b[39;00m \u001b[38;5;167;01mValueError\u001b[39;00m(\n\u001b[1;32m   2524\u001b[0m             \u001b[38;5;124mf\u001b[39m\u001b[38;5;124m\"\u001b[39m\u001b[38;5;124mColumns \u001b[39m\u001b[38;5;132;01m{\u001b[39;00m\u001b[38;5;28mlist\u001b[39m(missing_columns)\u001b[38;5;132;01m}\u001b[39;00m\u001b[38;5;124m not in the dataset. Current columns in the dataset: \u001b[39m\u001b[38;5;132;01m{\u001b[39;00m\u001b[38;5;28mself\u001b[39m\u001b[38;5;241m.\u001b[39m_data\u001b[38;5;241m.\u001b[39mcolumn_names\u001b[38;5;132;01m}\u001b[39;00m\u001b[38;5;124m\"\u001b[39m\n\u001b[1;32m   2525\u001b[0m         )\n\u001b[1;32m   2526\u001b[0m \u001b[38;5;28;01mif\u001b[39;00m columns \u001b[38;5;129;01mis\u001b[39;00m \u001b[38;5;129;01mnot\u001b[39;00m \u001b[38;5;28;01mNone\u001b[39;00m:\n\u001b[1;32m   2527\u001b[0m     columns \u001b[38;5;241m=\u001b[39m columns\u001b[38;5;241m.\u001b[39mcopy()  \u001b[38;5;66;03m# Ensures modifications made to the list after this call don't cause bugs\u001b[39;00m\n",
      "\u001b[0;31mValueError\u001b[0m: Columns ['embeddings'] not in the dataset. Current columns in the dataset: ['Unnamed: 0', 'patient_id', 'imaging_date', 'reports', 'image_ct___1', 'image_ct___2', 'image_ct___3', 'combined_reports']"
     ]
    }
   ],
   "source": [
    "data.add_faiss_index(\"embeddings\")"
   ]
  },
  {
   "cell_type": "code",
   "execution_count": null,
   "metadata": {},
   "outputs": [],
   "source": [
    "def embed(batch, embedder):\n",
    "    \"\"\"\n",
    "    adds a column to the dataset called 'embeddings'\n",
    "    \"\"\"\n",
    "    # or you can combine multiple columns here\n",
    "    # For example the title and the text\n",
    "    information = batch[\"text\"]\n",
    "    return {\"embeddings\" : embedder.encode(information)}"
   ]
  },
  {
   "cell_type": "code",
   "execution_count": null,
   "metadata": {},
   "outputs": [
    {
     "data": {
      "application/vnd.jupyter.widget-view+json": {
       "model_id": "c973b7eb0ccb49a38a75a2d8141d8015",
       "version_major": 2,
       "version_minor": 0
      },
      "text/plain": [
       "modules.json:   0%|          | 0.00/229 [00:00<?, ?B/s]"
      ]
     },
     "metadata": {},
     "output_type": "display_data"
    },
    {
     "data": {
      "application/vnd.jupyter.widget-view+json": {
       "model_id": "26db10c790454379918343c6b9d39c83",
       "version_major": 2,
       "version_minor": 0
      },
      "text/plain": [
       "config_sentence_transformers.json:   0%|          | 0.00/266 [00:00<?, ?B/s]"
      ]
     },
     "metadata": {},
     "output_type": "display_data"
    },
    {
     "data": {
      "application/vnd.jupyter.widget-view+json": {
       "model_id": "8e94fd07f43c4749ac73fb42990fe9a1",
       "version_major": 2,
       "version_minor": 0
      },
      "text/plain": [
       "README.md:   0%|          | 0.00/114k [00:00<?, ?B/s]"
      ]
     },
     "metadata": {},
     "output_type": "display_data"
    },
    {
     "data": {
      "application/vnd.jupyter.widget-view+json": {
       "model_id": "eca0b51e3bc94292b9d546afd061f224",
       "version_major": 2,
       "version_minor": 0
      },
      "text/plain": [
       "sentence_bert_config.json:   0%|          | 0.00/53.0 [00:00<?, ?B/s]"
      ]
     },
     "metadata": {},
     "output_type": "display_data"
    },
    {
     "data": {
      "application/vnd.jupyter.widget-view+json": {
       "model_id": "976fb7faedf44bf4b585a84064d0f3bb",
       "version_major": 2,
       "version_minor": 0
      },
      "text/plain": [
       "config.json:   0%|          | 0.00/677 [00:00<?, ?B/s]"
      ]
     },
     "metadata": {},
     "output_type": "display_data"
    },
    {
     "data": {
      "application/vnd.jupyter.widget-view+json": {
       "model_id": "991df3a3c0a0426db4f1f31777a246ee",
       "version_major": 2,
       "version_minor": 0
      },
      "text/plain": [
       "model.safetensors:   0%|          | 0.00/670M [00:00<?, ?B/s]"
      ]
     },
     "metadata": {},
     "output_type": "display_data"
    },
    {
     "data": {
      "application/vnd.jupyter.widget-view+json": {
       "model_id": "bb33a51cc7ca4739b1c6b0be7913339e",
       "version_major": 2,
       "version_minor": 0
      },
      "text/plain": [
       "tokenizer_config.json:   0%|          | 0.00/1.24k [00:00<?, ?B/s]"
      ]
     },
     "metadata": {},
     "output_type": "display_data"
    },
    {
     "data": {
      "application/vnd.jupyter.widget-view+json": {
       "model_id": "6939f68488224fdb8e8120889d0b5fee",
       "version_major": 2,
       "version_minor": 0
      },
      "text/plain": [
       "vocab.txt:   0%|          | 0.00/232k [00:00<?, ?B/s]"
      ]
     },
     "metadata": {},
     "output_type": "display_data"
    },
    {
     "data": {
      "application/vnd.jupyter.widget-view+json": {
       "model_id": "e96cd12f4a4b43d397ab4da728c56af5",
       "version_major": 2,
       "version_minor": 0
      },
      "text/plain": [
       "tokenizer.json:   0%|          | 0.00/711k [00:00<?, ?B/s]"
      ]
     },
     "metadata": {},
     "output_type": "display_data"
    },
    {
     "data": {
      "application/vnd.jupyter.widget-view+json": {
       "model_id": "9aca1401cbe54fa088588e9a3f9c0f5c",
       "version_major": 2,
       "version_minor": 0
      },
      "text/plain": [
       "special_tokens_map.json:   0%|          | 0.00/695 [00:00<?, ?B/s]"
      ]
     },
     "metadata": {},
     "output_type": "display_data"
    },
    {
     "data": {
      "application/vnd.jupyter.widget-view+json": {
       "model_id": "0dc79e201d74470385db68c2d0043923",
       "version_major": 2,
       "version_minor": 0
      },
      "text/plain": [
       "1_Pooling/config.json:   0%|          | 0.00/297 [00:00<?, ?B/s]"
      ]
     },
     "metadata": {},
     "output_type": "display_data"
    }
   ],
   "source": [
    "# embedding model\n",
    "# TODO: play around with embedding model type\n",
    "ST = SentenceTransformer(\"mixedbread-ai/mxbai-embed-large-v1\")"
   ]
  }
 ],
 "metadata": {
  "kernelspec": {
   "display_name": "base",
   "language": "python",
   "name": "python3"
  },
  "language_info": {
   "codemirror_mode": {
    "name": "ipython",
    "version": 3
   },
   "file_extension": ".py",
   "mimetype": "text/x-python",
   "name": "python",
   "nbconvert_exporter": "python",
   "pygments_lexer": "ipython3",
   "version": "3.12.7"
  }
 },
 "nbformat": 4,
 "nbformat_minor": 2
}
